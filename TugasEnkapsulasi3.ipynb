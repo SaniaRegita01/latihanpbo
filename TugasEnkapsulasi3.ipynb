{
  "nbformat": 4,
  "nbformat_minor": 0,
  "metadata": {
    "colab": {
      "provenance": [],
      "include_colab_link": true
    },
    "kernelspec": {
      "name": "python3",
      "display_name": "Python 3"
    },
    "language_info": {
      "name": "python"
    }
  },
  "cells": [
    {
      "cell_type": "markdown",
      "metadata": {
        "id": "view-in-github",
        "colab_type": "text"
      },
      "source": [
        "<a href=\"https://colab.research.google.com/github/SaniaRegita01/latihanpbo/blob/main/TugasEnkapsulasi3.ipynb\" target=\"_parent\"><img src=\"https://colab.research.google.com/assets/colab-badge.svg\" alt=\"Open In Colab\"/></a>"
      ]
    },
    {
      "cell_type": "markdown",
      "source": [
        "Buatlah kelas RekeningBank dengan atribut berikut:\n",
        "\n",
        "*   nama_pemilik (private)\n",
        "*   saldo (private)\n",
        "\n",
        "Berikan metode berikut:\n",
        "\n",
        "*   __init__: Menginisialisasi saldo dan nama_pemilik.\n",
        "*   set_saldo: Mengubah nilai saldo.\n",
        "*   get_saldo: Mengembalikan nilai saldo.\n",
        "*   set_nama_pemilik: Mengubah nama pemilik.\n",
        "*   get_nama_pemilik: Mengembalikan nama pemilik.\n",
        "\n",
        "\n",
        "\n",
        "\n",
        "\n",
        "\n",
        "\n",
        "\n"
      ],
      "metadata": {
        "id": "PktiI90eS6Ee"
      }
    },
    {
      "cell_type": "code",
      "source": [
        "# Desain class\n",
        "class RekeningBank:\n",
        "  def __init__(self, nama_pemilik, saldo):\n",
        "    self.__nama_pemilik = nama_pemilik\n",
        "    self.__saldo = saldo\n",
        "\n",
        "  def get_nama_pemilik(self):\n",
        "    return self.__nama_pemilik\n",
        "  def set_nama_pemilik(self, nama_pemilik):\n",
        "    self.__nama_pemilik = nama_pemilik\n",
        "\n",
        "  def get_saldo(self):\n",
        "    return self.__saldo\n",
        "  def set_saldo(self, saldo):\n",
        "    if saldo > 6000000:\n",
        "      self.__saldo = 2000000\n",
        "    elif saldo < 3000000:\n",
        "      self.__saldo = 1000000\n",
        "    else:\n",
        "      self.__saldo = saldo\n",
        ""
      ],
      "metadata": {
        "id": "Pyj-mkyciVfk"
      },
      "execution_count": 7,
      "outputs": []
    },
    {
      "cell_type": "code",
      "source": [
        "#Program utama untuk mendemonstrasikan class RekeningBank\n",
        "#yang menunjukkan penggunaan semua fungsi yang ada\n",
        "# Contoh penggunaan kelas RekeningBank\n",
        "rekening = RekeningBank(\"Sania\", 1000)\n",
        "\n",
        "# Mengakses saldo dan nama pemilik\n",
        "print(\"Nama Pemilik:\", rekening.get_nama_pemilik())\n",
        "print(\"Saldo Awal:\", rekening.get_saldo())\n",
        "\n",
        "# Mengubah saldo dan nama pemilik\n",
        "rekening.set_saldo(3000)\n",
        "rekening.set_nama_pemilik(\"Regita\")\n",
        "\n",
        "# Mengakses saldo dan nama pemilik setelah perubahan\n",
        "print(\"\\nNama Pemilik Baru:\", rekening.get_nama_pemilik())\n",
        "print(\"Saldo Baru:\", rekening.get_saldo())"
      ],
      "metadata": {
        "id": "aOwy6rfdSga2",
        "outputId": "cb92d56c-2098-4994-8ec1-3d2d47774e5d",
        "colab": {
          "base_uri": "https://localhost:8080/"
        }
      },
      "execution_count": 8,
      "outputs": [
        {
          "output_type": "stream",
          "name": "stdout",
          "text": [
            "Nama Pemilik: Sania\n",
            "Saldo Awal: 1000\n",
            "\n",
            "Nama Pemilik Baru: Regita\n",
            "Saldo Baru: 1000000\n"
          ]
        }
      ]
    },
    {
      "cell_type": "code",
      "source": [
        "class RekeningBank:\n",
        "    def __init__(self, nama_pemilik, saldo):\n",
        "        self.__nama_pemilik = nama_pemilik\n",
        "        self.__saldo = saldo\n",
        "\n",
        "    def set_saldo(self, saldo_baru):\n",
        "        self.__saldo = saldo_baru\n",
        "\n",
        "    def get_saldo(self):\n",
        "        return self.__saldo\n",
        "\n",
        "    def set_nama_pemilik(self, nama_baru):\n",
        "        self.__nama_pemilik = nama_baru\n",
        "\n",
        "    def get_nama_pemilik(self):\n",
        "        return self.__nama_pemilik\n",
        "\n",
        "    def setor(self, jumlah):\n",
        "        if jumlah > 0:\n",
        "            self.__saldo += jumlah\n",
        "\n",
        "    def tarik(self, jumlah):\n",
        "        if jumlah > 0 and jumlah <= self.__saldo:\n",
        "            self.__saldo -= jumlah\n",
        "\n",
        "    # Demo program utama\n",
        "rekening = RekeningBank(\"Sania\", 1000)\n",
        "\n",
        "print(\"Nama Pemilik:\", rekening.get_nama_pemilik())\n",
        "print(\"Saldo Awal:\", rekening.get_saldo())\n",
        "\n",
        "rekening.setor(200)\n",
        "print(\"Saldo setelah setor:\", rekening.get_saldo())\n",
        "\n",
        "rekening.tarik(300)\n",
        "print(\"Saldo setelah tarik:\", rekening.get_saldo())\n",
        "\n",
        "rekening.set_nama_pemilik(\"Prahesty\")\n",
        "print(\"Nama Pemilik Baru:\", rekening.get_nama_pemilik())\n",
        "\n",
        "rekening.tarik(4000)\n",
        "print(\"Saldo setelah tarik:\", rekening.get_saldo())\n"
      ],
      "metadata": {
        "id": "lxKhdaCFH3_y",
        "outputId": "35db082e-a204-4d56-eb36-59916ed5b670",
        "colab": {
          "base_uri": "https://localhost:8080/"
        }
      },
      "execution_count": 9,
      "outputs": [
        {
          "output_type": "stream",
          "name": "stdout",
          "text": [
            "Nama Pemilik: Sania\n",
            "Saldo Awal: 1000\n",
            "Saldo setelah setor: 1200\n",
            "Saldo setelah tarik: 900\n",
            "Nama Pemilik Baru: Prahesty\n",
            "Saldo setelah tarik: 900\n"
          ]
        }
      ]
    }
  ]
}